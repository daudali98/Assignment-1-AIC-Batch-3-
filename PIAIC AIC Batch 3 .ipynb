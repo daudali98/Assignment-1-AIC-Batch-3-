{
 "cells": [
  {
   "cell_type": "code",
   "execution_count": 1,
   "metadata": {},
   "outputs": [
    {
     "name": "stdout",
     "output_type": "stream",
     "text": [
      "Daud Ali\n"
     ]
    }
   ],
   "source": [
    "name=\"Daud Ali\"\n",
    "print(name)"
   ]
  },
  {
   "cell_type": "code",
   "execution_count": 2,
   "metadata": {},
   "outputs": [
    {
     "data": {
      "text/plain": [
       "['__add__',\n",
       " '__class__',\n",
       " '__contains__',\n",
       " '__delattr__',\n",
       " '__dir__',\n",
       " '__doc__',\n",
       " '__eq__',\n",
       " '__format__',\n",
       " '__ge__',\n",
       " '__getattribute__',\n",
       " '__getitem__',\n",
       " '__getnewargs__',\n",
       " '__gt__',\n",
       " '__hash__',\n",
       " '__init__',\n",
       " '__init_subclass__',\n",
       " '__iter__',\n",
       " '__le__',\n",
       " '__len__',\n",
       " '__lt__',\n",
       " '__mod__',\n",
       " '__mul__',\n",
       " '__ne__',\n",
       " '__new__',\n",
       " '__reduce__',\n",
       " '__reduce_ex__',\n",
       " '__repr__',\n",
       " '__rmod__',\n",
       " '__rmul__',\n",
       " '__setattr__',\n",
       " '__sizeof__',\n",
       " '__str__',\n",
       " '__subclasshook__',\n",
       " 'capitalize',\n",
       " 'casefold',\n",
       " 'center',\n",
       " 'count',\n",
       " 'encode',\n",
       " 'endswith',\n",
       " 'expandtabs',\n",
       " 'find',\n",
       " 'format',\n",
       " 'format_map',\n",
       " 'index',\n",
       " 'isalnum',\n",
       " 'isalpha',\n",
       " 'isascii',\n",
       " 'isdecimal',\n",
       " 'isdigit',\n",
       " 'isidentifier',\n",
       " 'islower',\n",
       " 'isnumeric',\n",
       " 'isprintable',\n",
       " 'isspace',\n",
       " 'istitle',\n",
       " 'isupper',\n",
       " 'join',\n",
       " 'ljust',\n",
       " 'lower',\n",
       " 'lstrip',\n",
       " 'maketrans',\n",
       " 'partition',\n",
       " 'replace',\n",
       " 'rfind',\n",
       " 'rindex',\n",
       " 'rjust',\n",
       " 'rpartition',\n",
       " 'rsplit',\n",
       " 'rstrip',\n",
       " 'split',\n",
       " 'splitlines',\n",
       " 'startswith',\n",
       " 'strip',\n",
       " 'swapcase',\n",
       " 'title',\n",
       " 'translate',\n",
       " 'upper',\n",
       " 'zfill']"
      ]
     },
     "execution_count": 2,
     "metadata": {},
     "output_type": "execute_result"
    }
   ],
   "source": [
    "dir (name)"
   ]
  },
  {
   "cell_type": "markdown",
   "metadata": {},
   "source": [
    "# 1. Capitalize Method()"
   ]
  },
  {
   "cell_type": "code",
   "execution_count": 5,
   "metadata": {},
   "outputs": [
    {
     "name": "stdout",
     "output_type": "stream",
     "text": [
      "Daud ali\n"
     ]
    }
   ],
   "source": [
    "name=\"daud ali\"\n",
    "result=name.capitalize()\n",
    "print(result)\n",
    "#capitalize() method converts the first character of a string to capital (uppercase) letter. \n",
    "#If the string has its first character as capital, then it returns the original string."
   ]
  },
  {
   "cell_type": "markdown",
   "metadata": {},
   "source": [
    "# 2. Casefold Method()"
   ]
  },
  {
   "cell_type": "code",
   "execution_count": 6,
   "metadata": {},
   "outputs": [
    {
     "name": "stdout",
     "output_type": "stream",
     "text": [
      "daud ali\n"
     ]
    }
   ],
   "source": [
    "name=\"Daud ALI\"\n",
    "result=name.casefold()\n",
    "print(result)\n",
    "#The casefold() method is removes all case distinctions present in a string. \n",
    "#It is used for caseless matching, i.e. ignores cases when comparing."
   ]
  },
  {
   "cell_type": "markdown",
   "metadata": {},
   "source": [
    "# 3. Center Method()"
   ]
  },
  {
   "cell_type": "code",
   "execution_count": 10,
   "metadata": {},
   "outputs": [
    {
     "name": "stdout",
     "output_type": "stream",
     "text": [
      "                Daud ALI                \n"
     ]
    }
   ],
   "source": [
    "name=\"Daud ALI\"\n",
    "result=name.center(40)\n",
    "print(result)\n",
    "#The center() method creates and returns a new string which is padded with the specified character."
   ]
  },
  {
   "cell_type": "markdown",
   "metadata": {},
   "source": [
    "# 4. Count Method()"
   ]
  },
  {
   "cell_type": "code",
   "execution_count": 15,
   "metadata": {},
   "outputs": [
    {
     "name": "stdout",
     "output_type": "stream",
     "text": [
      "2\n"
     ]
    }
   ],
   "source": [
    "example=[1,1,2,3,7,9,99,981]\n",
    "result=example.count(1)\n",
    "print(result)\n",
    "#count() is an inbuilt function in Python that returns count of how many times a given object occurs in list."
   ]
  },
  {
   "cell_type": "markdown",
   "metadata": {},
   "source": [
    "# 5.Encode Method()"
   ]
  },
  {
   "cell_type": "code",
   "execution_count": 18,
   "metadata": {},
   "outputs": [
    {
     "name": "stdout",
     "output_type": "stream",
     "text": [
      "b'Daud ALI'\n"
     ]
    }
   ],
   "source": [
    "name=\"Daud ALI\"\n",
    "result=name.encode()\n",
    "print(result)\n",
    "#The string encode() method returns encoded version of the given string."
   ]
  },
  {
   "cell_type": "markdown",
   "metadata": {},
   "source": [
    "# 6. endswith Method()"
   ]
  },
  {
   "cell_type": "code",
   "execution_count": 22,
   "metadata": {},
   "outputs": [
    {
     "name": "stdout",
     "output_type": "stream",
     "text": [
      "False\n",
      "True\n"
     ]
    }
   ],
   "source": [
    "name=\"Daud ALI\"\n",
    "result=name.endswith('m')\n",
    "result1=name.endswith('I')\n",
    "print(result)\n",
    "print(result1)\n",
    "#The endswith() method returns True if a string ends with the given suffix otherwise returns False."
   ]
  },
  {
   "cell_type": "markdown",
   "metadata": {},
   "source": [
    "# 7. expandtabs Method()"
   ]
  },
  {
   "cell_type": "code",
   "execution_count": 27,
   "metadata": {},
   "outputs": [
    {
     "name": "stdout",
     "output_type": "stream",
     "text": [
      "Daud            ALI             AIC\n"
     ]
    }
   ],
   "source": [
    "name=\"Daud\\tALI\\tAIC\"\n",
    "result=name.expandtabs(16)\n",
    "print(result)\n",
    "#The expandtabs() method returns a copy of string with all tab characters '\\t' \n",
    "#replaced with whitespace characters until the next multiple of tabsize parameter."
   ]
  },
  {
   "cell_type": "markdown",
   "metadata": {},
   "source": [
    "# 8. find Method()"
   ]
  },
  {
   "cell_type": "code",
   "execution_count": 31,
   "metadata": {},
   "outputs": [
    {
     "name": "stdout",
     "output_type": "stream",
     "text": [
      "7\n",
      "-1\n"
     ]
    }
   ],
   "source": [
    "example=\"Python is Easy\"\n",
    "result=example.find('is')\n",
    "result1=example.find('good')\n",
    "print(result)\n",
    "print(result1)\n",
    "#The find() method returns the index of first occurrence of the substring (if found). If not found, it returns -1."
   ]
  },
  {
   "cell_type": "markdown",
   "metadata": {},
   "source": [
    "# 9. format Method()"
   ]
  },
  {
   "cell_type": "code",
   "execution_count": 37,
   "metadata": {},
   "outputs": [
    {
     "name": "stdout",
     "output_type": "stream",
     "text": [
      "I am 21 years old !\n"
     ]
    }
   ],
   "source": [
    "print (\"I am {} years old !\".format(21))\n",
    "#format() is one of the string formatting methods in Python3, which allows multiple substitutions and value formatting. \n",
    "#This method lets us concatenate elements within a string through positional formatting."
   ]
  },
  {
   "cell_type": "markdown",
   "metadata": {},
   "source": [
    "# 10. format_map Method()"
   ]
  },
  {
   "cell_type": "code",
   "execution_count": 38,
   "metadata": {},
   "outputs": [
    {
     "name": "stdout",
     "output_type": "stream",
     "text": [
      "Daud's last name is ALI\n"
     ]
    }
   ],
   "source": [
    "example = {'x':'Daud', 'y':'ALI'}\n",
    "print(\"{x}'s last name is {y}\".format_map(example)) \n",
    "#format_map() function is an inbuilt function in Python, which is used to return an dictionary key’s value."
   ]
  },
  {
   "cell_type": "markdown",
   "metadata": {},
   "source": [
    "# 11. index Method()"
   ]
  },
  {
   "cell_type": "code",
   "execution_count": 41,
   "metadata": {},
   "outputs": [
    {
     "name": "stdout",
     "output_type": "stream",
     "text": [
      "The index of U: 2\n"
     ]
    }
   ],
   "source": [
    "name=['D','A','U','D','A','L','I']\n",
    "index = name.index('U')\n",
    "print('The index of U:', index)\n",
    "#In simple terms, the index() method finds the given element in a list and returns its position."
   ]
  },
  {
   "cell_type": "markdown",
   "metadata": {},
   "source": [
    "# 12. isalnum Method()"
   ]
  },
  {
   "cell_type": "code",
   "execution_count": 47,
   "metadata": {},
   "outputs": [
    {
     "name": "stdout",
     "output_type": "stream",
     "text": [
      "True\n",
      "False\n"
     ]
    }
   ],
   "source": [
    "name=\"DaudAliPIAIC63638\"\n",
    "name1=\"Daud Ali\"\n",
    "print(name.isalnum())\n",
    "print(name1.isalnum())\n",
    "#isalnum() function in Python programming language checks whether all the characters in a given string is alphanumeric or not."
   ]
  },
  {
   "cell_type": "markdown",
   "metadata": {},
   "source": [
    "# 13. isalpha Method()"
   ]
  },
  {
   "cell_type": "code",
   "execution_count": 50,
   "metadata": {},
   "outputs": [
    {
     "name": "stdout",
     "output_type": "stream",
     "text": [
      "False\n",
      "True\n"
     ]
    }
   ],
   "source": [
    "name=\"DaudAliPIAIC6368\"\n",
    "name1=\"DaudAli\"\n",
    "print(name.isalpha())\n",
    "print(name1.isalpha())\n",
    "#The isalpha() methods returns “True” if all characters in the string are alphabets, Otherwise, It returns “False”."
   ]
  },
  {
   "cell_type": "markdown",
   "metadata": {},
   "source": [
    "# 14. isascii Method()"
   ]
  },
  {
   "cell_type": "code",
   "execution_count": 59,
   "metadata": {},
   "outputs": [
    {
     "name": "stdout",
     "output_type": "stream",
     "text": [
      "True\n",
      "False\n"
     ]
    }
   ],
   "source": [
    "example = \"PythonIsEasy\"\n",
    "print(example.isascii())\n",
    "example1 = '°'\n",
    "print(example1.isascii())\n",
    "#It returns True if the string is empty or if all the characters in the string are ASCII characters. Otherwise, it returns False. \n",
    "#ASCII characters refer to characters that have a printable representation."
   ]
  },
  {
   "cell_type": "markdown",
   "metadata": {},
   "source": [
    "# 15. isdecimal Method()"
   ]
  },
  {
   "cell_type": "code",
   "execution_count": 64,
   "metadata": {},
   "outputs": [
    {
     "name": "stdout",
     "output_type": "stream",
     "text": [
      "True\n",
      "False\n"
     ]
    }
   ],
   "source": [
    "name=\"636368\"\n",
    "name1=\"PIAIC63638\"\n",
    "print(name.isdecimal())\n",
    "print(name1.isdecimal())\n",
    "#isdecimal()-It is a function in Python that returns true if all characters in a string are decimal. \n",
    "#If all characters are not decimal then it returns false."
   ]
  },
  {
   "cell_type": "markdown",
   "metadata": {},
   "source": [
    "# 16. isdigit Method()"
   ]
  },
  {
   "cell_type": "code",
   "execution_count": 65,
   "metadata": {},
   "outputs": [
    {
     "name": "stdout",
     "output_type": "stream",
     "text": [
      "True\n",
      "False\n"
     ]
    }
   ],
   "source": [
    "name=\"636368\"\n",
    "name1=\"PIAIC63638\"\n",
    "print(name.isdigit())\n",
    "print(name1.isdigit())\n",
    "#This method returns true if all characters in the string are digits and there is at least one character, false otherwise."
   ]
  },
  {
   "cell_type": "markdown",
   "metadata": {},
   "source": [
    "# 17. isidentifier Method()"
   ]
  },
  {
   "cell_type": "code",
   "execution_count": 68,
   "metadata": {},
   "outputs": [
    {
     "name": "stdout",
     "output_type": "stream",
     "text": [
      "True\n",
      "False\n"
     ]
    }
   ],
   "source": [
    "name = 'Python'\n",
    "name1 = 'Py thon'\n",
    "print(name.isidentifier())\n",
    "print(name1.isidentifier())\n",
    "#The isidentifier() method returns True if the string is a valid identifier in Python. If not, it returns False."
   ]
  },
  {
   "cell_type": "markdown",
   "metadata": {},
   "source": [
    "# 18. islower Method ()"
   ]
  },
  {
   "cell_type": "code",
   "execution_count": 69,
   "metadata": {},
   "outputs": [
    {
     "name": "stdout",
     "output_type": "stream",
     "text": [
      "False\n",
      "True\n"
     ]
    }
   ],
   "source": [
    "name = 'PYTHON IS easy'\n",
    "name1 = 'python is easy'\n",
    "print(name.islower())\n",
    "print(name1.islower())\n",
    "#This method returns true if all cased characters in the string are lowercase and there is at least one cased character, \n",
    "#false otherwise."
   ]
  },
  {
   "cell_type": "markdown",
   "metadata": {},
   "source": [
    "# 19. isnumeric ()"
   ]
  },
  {
   "cell_type": "code",
   "execution_count": 70,
   "metadata": {},
   "outputs": [
    {
     "name": "stdout",
     "output_type": "stream",
     "text": [
      "False\n",
      "True\n"
     ]
    }
   ],
   "source": [
    "s='python12'\n",
    "s1='123456'\n",
    "print(s.isnumeric())\n",
    "print(s1.isnumeric())\n",
    "#The isnumeric() method returns True if all characters in a string are numeric characters. If not, it returns False."
   ]
  },
  {
   "cell_type": "markdown",
   "metadata": {},
   "source": [
    "# 20. isprintable ()"
   ]
  },
  {
   "cell_type": "code",
   "execution_count": 71,
   "metadata": {},
   "outputs": [
    {
     "name": "stdout",
     "output_type": "stream",
     "text": [
      "Space is a printable\n",
      "True\n",
      "\n",
      "New Line is printable\n",
      "False\n"
     ]
    }
   ],
   "source": [
    "s1 = 'Space is a printable'\n",
    "s = '\\nNew Line is printable'\n",
    "print(s1)\n",
    "print(s1.isprintable())\n",
    "print(s)\n",
    "print(s.isprintable())\n",
    "#The isprintable() methods returns True if all characters in the string are printable or the string is empty.\n",
    "#If not, it returns False."
   ]
  },
  {
   "cell_type": "markdown",
   "metadata": {},
   "source": [
    "# 21. isspace Method()"
   ]
  },
  {
   "cell_type": "code",
   "execution_count": 72,
   "metadata": {},
   "outputs": [
    {
     "name": "stdout",
     "output_type": "stream",
     "text": [
      "True\n",
      "False\n"
     ]
    }
   ],
   "source": [
    "s = '   \\t'\n",
    "s1 = ' a '\n",
    "print(s.isspace())\n",
    "print(s1.isspace())\n",
    "#The isspace() method returns True if there are only whitespace characters in the string. If not, it return False."
   ]
  },
  {
   "cell_type": "markdown",
   "metadata": {},
   "source": [
    "# 22. istitle Method()"
   ]
  },
  {
   "cell_type": "code",
   "execution_count": 73,
   "metadata": {},
   "outputs": [
    {
     "name": "stdout",
     "output_type": "stream",
     "text": [
      "True\n",
      "False\n"
     ]
    }
   ],
   "source": [
    "name=\"Daud Ali\"\n",
    "name1=\"Daud ali\"\n",
    "print(name.istitle())\n",
    "print(name1.istitle())\n",
    "#The istitle() returns True if the string is a titlecased string otherwise it returns False."
   ]
  },
  {
   "cell_type": "markdown",
   "metadata": {},
   "source": [
    "# 23. isupper Method()"
   ]
  },
  {
   "cell_type": "code",
   "execution_count": 75,
   "metadata": {},
   "outputs": [
    {
     "name": "stdout",
     "output_type": "stream",
     "text": [
      "True\n",
      "False\n"
     ]
    }
   ],
   "source": [
    "name=\"DAUD ALI\"\n",
    "name1=\"Daud ali\"\n",
    "print(name.isupper())\n",
    "print(name1.isupper())\n",
    "#The isupper() methods returns “True” if all characters in the string are uppercase, Otherwise, It returns “False”."
   ]
  },
  {
   "cell_type": "markdown",
   "metadata": {},
   "source": [
    "# 24. join Method()"
   ]
  },
  {
   "cell_type": "code",
   "execution_count": 77,
   "metadata": {},
   "outputs": [
    {
     "name": "stdout",
     "output_type": "stream",
     "text": [
      "1<2<3<4\n"
     ]
    }
   ],
   "source": [
    "numList = ['1', '2', '3', '4']\n",
    "seperator = '<'\n",
    "print(seperator.join(numList))\n",
    "#The join() is a string method which returns a string concatenated with the elements of an iterable."
   ]
  },
  {
   "cell_type": "markdown",
   "metadata": {},
   "source": [
    "# 25. ljust Method()"
   ]
  },
  {
   "cell_type": "code",
   "execution_count": 92,
   "metadata": {},
   "outputs": [
    {
     "name": "stdout",
     "output_type": "stream",
     "text": [
      "Daud*****\n"
     ]
    }
   ],
   "source": [
    "string = 'Daud'\n",
    "width = 9\n",
    "fillchar = '*'\n",
    "print(string.ljust(width, fillchar))\n",
    "#The string ljust() method returns a left-justified string of a given minimum width."
   ]
  },
  {
   "cell_type": "markdown",
   "metadata": {},
   "source": [
    "# 26. lower Method()"
   ]
  },
  {
   "cell_type": "code",
   "execution_count": 81,
   "metadata": {},
   "outputs": [
    {
     "name": "stdout",
     "output_type": "stream",
     "text": [
      "daudali\n"
     ]
    }
   ],
   "source": [
    "name=\"DAUDALI\"\n",
    "print(name.lower())\n",
    "#The lower() methods returns the lowercased string from the given string. It converts all uppercase characters to lowercase. \n",
    "#If no uppercase characters exist, it returns the original string."
   ]
  },
  {
   "cell_type": "markdown",
   "metadata": {},
   "source": [
    "# 27. lstrip Method()"
   ]
  },
  {
   "cell_type": "code",
   "execution_count": 82,
   "metadata": {},
   "outputs": [
    {
     "name": "stdout",
     "output_type": "stream",
     "text": [
      "DAUD     ALI\n"
     ]
    }
   ],
   "source": [
    "name=\"        DAUD     ALI\"\n",
    "print(name.lstrip())\n",
    "#The lstrip() removes characters from the left based on the argument (a string specifying the set of characters to be removed)."
   ]
  },
  {
   "cell_type": "markdown",
   "metadata": {},
   "source": [
    "# 28. maketrans Method ()"
   ]
  },
  {
   "cell_type": "code",
   "execution_count": 83,
   "metadata": {},
   "outputs": [
    {
     "name": "stdout",
     "output_type": "stream",
     "text": [
      "{97: '123', 98: '456', 99: '789'}\n"
     ]
    }
   ],
   "source": [
    "dict = {\"a\": \"123\", \"b\": \"456\", \"c\": \"789\"}\n",
    "string = \"abc\"\n",
    "print(string.maketrans(dict))\n",
    "#The maketrans() method returns a translation table with a 1-to-1 mapping of a Unicode ordinal to its translation/replacement."
   ]
  },
  {
   "cell_type": "markdown",
   "metadata": {},
   "source": [
    "# 29. partition Method()"
   ]
  },
  {
   "cell_type": "code",
   "execution_count": 85,
   "metadata": {},
   "outputs": [
    {
     "name": "stdout",
     "output_type": "stream",
     "text": [
      "('Python is fun', '', '')\n",
      "('Python ', 'is ', 'fun')\n"
     ]
    }
   ],
   "source": [
    "string = \"Python is fun\"\n",
    "string = \"Python is fun\"\n",
    "print(string.partition('fun '))\n",
    "print(string.partition('is '))\n",
    "#The partition() method splits the string at the first occurrence of the argument string and returns a tuple\n",
    "#containing the part the before separator, argument string and the part after the separator."
   ]
  },
  {
   "cell_type": "markdown",
   "metadata": {},
   "source": [
    "# 30. replace Method()"
   ]
  },
  {
   "cell_type": "code",
   "execution_count": 86,
   "metadata": {},
   "outputs": [
    {
     "name": "stdout",
     "output_type": "stream",
     "text": [
      "63638 Ali\n"
     ]
    }
   ],
   "source": [
    "string = \"Daud Ali\" \n",
    "print(string.replace(\"Daud\", \"63638\")) \n",
    "#replace() is an inbuilt function in Python programming language that returns a copy of the string\n",
    "#where all occurrences of a substring is replaced with another substring."
   ]
  },
  {
   "cell_type": "markdown",
   "metadata": {},
   "source": [
    "# 31. rfind Method ()"
   ]
  },
  {
   "cell_type": "code",
   "execution_count": 87,
   "metadata": {},
   "outputs": [
    {
     "name": "stdout",
     "output_type": "stream",
     "text": [
      "Substring 'let it': 22\n",
      "Substring 'small ': -1\n"
     ]
    }
   ],
   "source": [
    "quote = 'Let it be, let it be, let it be'\n",
    "result = quote.rfind('let it')\n",
    "print(\"Substring 'let it':\", result)\n",
    "result = quote.rfind('small')\n",
    "print(\"Substring 'small ':\", result)\n",
    "#The rfind() method returns the highest index of the substring (if found). If not found, it returns -1."
   ]
  },
  {
   "cell_type": "markdown",
   "metadata": {},
   "source": [
    "# 32. rindex Method()"
   ]
  },
  {
   "cell_type": "code",
   "execution_count": 89,
   "metadata": {},
   "outputs": [
    {
     "name": "stdout",
     "output_type": "stream",
     "text": [
      "Substring 'let it': 22\n"
     ]
    },
    {
     "ename": "ValueError",
     "evalue": "substring not found",
     "output_type": "error",
     "traceback": [
      "\u001b[1;31m---------------------------------------------------------------------------\u001b[0m",
      "\u001b[1;31mValueError\u001b[0m                                Traceback (most recent call last)",
      "\u001b[1;32m<ipython-input-89-f71a8bc6a0a0>\u001b[0m in \u001b[0;36m<module>\u001b[1;34m\u001b[0m\n\u001b[0;32m      2\u001b[0m \u001b[0mresult\u001b[0m \u001b[1;33m=\u001b[0m \u001b[0mquote\u001b[0m\u001b[1;33m.\u001b[0m\u001b[0mrindex\u001b[0m\u001b[1;33m(\u001b[0m\u001b[1;34m'let it'\u001b[0m\u001b[1;33m)\u001b[0m\u001b[1;33m\u001b[0m\u001b[1;33m\u001b[0m\u001b[0m\n\u001b[0;32m      3\u001b[0m \u001b[0mprint\u001b[0m\u001b[1;33m(\u001b[0m\u001b[1;34m\"Substring 'let it':\"\u001b[0m\u001b[1;33m,\u001b[0m \u001b[0mresult\u001b[0m\u001b[1;33m)\u001b[0m\u001b[1;33m\u001b[0m\u001b[1;33m\u001b[0m\u001b[0m\n\u001b[1;32m----> 4\u001b[1;33m \u001b[0mresult\u001b[0m \u001b[1;33m=\u001b[0m \u001b[0mquote\u001b[0m\u001b[1;33m.\u001b[0m\u001b[0mrindex\u001b[0m\u001b[1;33m(\u001b[0m\u001b[1;34m'small'\u001b[0m\u001b[1;33m)\u001b[0m\u001b[1;33m\u001b[0m\u001b[1;33m\u001b[0m\u001b[0m\n\u001b[0m\u001b[0;32m      5\u001b[0m \u001b[0mprint\u001b[0m\u001b[1;33m(\u001b[0m\u001b[1;34m\"Substring 'small ':\"\u001b[0m\u001b[1;33m,\u001b[0m \u001b[0mresult\u001b[0m\u001b[1;33m)\u001b[0m\u001b[1;33m\u001b[0m\u001b[1;33m\u001b[0m\u001b[0m\n",
      "\u001b[1;31mValueError\u001b[0m: substring not found"
     ]
    }
   ],
   "source": [
    "quote = 'Let it be, let it be, let it be'\n",
    "result = quote.rindex('let it')\n",
    "print(\"Substring 'let it':\", result)\n",
    "result = quote.rindex('small')\n",
    "print(\"Substring 'small ':\", result)\n",
    "#The rindex() method returns the highest index of the substring inside the string (if found). \n",
    "#If the substring is not found, it raises an exception."
   ]
  },
  {
   "cell_type": "markdown",
   "metadata": {},
   "source": [
    "# 33. rjust Method ()"
   ]
  },
  {
   "cell_type": "code",
   "execution_count": 90,
   "metadata": {},
   "outputs": [
    {
     "name": "stdout",
     "output_type": "stream",
     "text": [
      "*****Daud\n"
     ]
    }
   ],
   "source": [
    "string = 'Daud'\n",
    "width = 9\n",
    "fillchar = '*'\n",
    "print(string.rjust(width, fillchar))\n",
    "#The string rjust() method returns a right-justified string of a given minimum width."
   ]
  },
  {
   "cell_type": "markdown",
   "metadata": {},
   "source": [
    "# 34. rpartition Method()"
   ]
  },
  {
   "cell_type": "code",
   "execution_count": 93,
   "metadata": {},
   "outputs": [
    {
     "name": "stdout",
     "output_type": "stream",
     "text": [
      "('Python ', 'is ', 'fun')\n",
      "('', '', 'Python is fun')\n"
     ]
    }
   ],
   "source": [
    "string = \"Python is fun\"\n",
    "print(string.rpartition('is '))\n",
    "print(string.rpartition('not '))\n",
    "#The rpartition() splits the string at the last occurrence of the argument string and returns a \n",
    "#tuple containing the part the before separator, argument string and the part after the separator."
   ]
  },
  {
   "cell_type": "markdown",
   "metadata": {},
   "source": [
    "# 35. rsplit Method ()"
   ]
  },
  {
   "cell_type": "code",
   "execution_count": 97,
   "metadata": {},
   "outputs": [
    {
     "name": "stdout",
     "output_type": "stream",
     "text": [
      "['Milk', 'Chicken', 'Bread']\n"
     ]
    }
   ],
   "source": [
    "grocery = 'Milk, Chicken, Bread'\n",
    "print(grocery.rsplit(', '))\n",
    "#The rsplit() method splits string from the right at the specified separator and returns a list of strings."
   ]
  },
  {
   "cell_type": "markdown",
   "metadata": {},
   "source": [
    "# 36. rstrip Method ()"
   ]
  },
  {
   "cell_type": "code",
   "execution_count": 100,
   "metadata": {},
   "outputs": [
    {
     "name": "stdout",
     "output_type": "stream",
     "text": [
      "     Daud A\n"
     ]
    }
   ],
   "source": [
    "string = '     Daud Ali'\n",
    "print(string.rstrip('li'))\n",
    "#The rstrip() method returns a copy of the string with trailing characters removed (based on the string argument passed)."
   ]
  },
  {
   "cell_type": "markdown",
   "metadata": {},
   "source": [
    "# 37. split Method ()"
   ]
  },
  {
   "cell_type": "code",
   "execution_count": 104,
   "metadata": {},
   "outputs": [
    {
     "name": "stdout",
     "output_type": "stream",
     "text": [
      "['Milk', 'Chicken', 'Bread']\n"
     ]
    }
   ],
   "source": [
    "grocery = 'Milk, Chicken, Bread'\n",
    "print(grocery.split(', '))\n",
    "#The split() method breaks up a string at the specified separator and returns a list of strings."
   ]
  },
  {
   "cell_type": "markdown",
   "metadata": {},
   "source": [
    "# 38. splitlines Method()"
   ]
  },
  {
   "cell_type": "code",
   "execution_count": 105,
   "metadata": {},
   "outputs": [
    {
     "name": "stdout",
     "output_type": "stream",
     "text": [
      "['Milk', 'Chicken', 'Bread', 'Butter']\n"
     ]
    }
   ],
   "source": [
    "grocery = 'Milk\\nChicken\\r\\nBread\\rButter'\n",
    "print(grocery.splitlines())\n",
    "#The splitlines() method splits the string at line breaks and returns a list of lines in the string."
   ]
  },
  {
   "cell_type": "markdown",
   "metadata": {},
   "source": [
    "# 39. startswith Method()"
   ]
  },
  {
   "cell_type": "code",
   "execution_count": 106,
   "metadata": {},
   "outputs": [
    {
     "name": "stdout",
     "output_type": "stream",
     "text": [
      "False\n",
      "True\n"
     ]
    }
   ],
   "source": [
    "name=\"Daud ALI\"\n",
    "result=name.startswith('m')\n",
    "result1=name.startswith('D')\n",
    "print(result)\n",
    "print(result1)\n",
    "#The startswith() method returns True if a string starts with the specified prefix(string). If not, it returns False."
   ]
  },
  {
   "cell_type": "markdown",
   "metadata": {},
   "source": [
    "# 40. strip Method ()"
   ]
  },
  {
   "cell_type": "code",
   "execution_count": 108,
   "metadata": {},
   "outputs": [
    {
     "name": "stdout",
     "output_type": "stream",
     "text": [
      "python is easy\n",
      " is eas\n"
     ]
    }
   ],
   "source": [
    "string = 'python is easy'\n",
    "print(string.strip())\n",
    "print(string.strip('python'))\n",
    "#The strip() method returns a copy of the string with both leading and trailing characters removed\n",
    "#(based on the string argument passed)"
   ]
  },
  {
   "cell_type": "markdown",
   "metadata": {},
   "source": [
    "# 41. swapcase Method ()"
   ]
  },
  {
   "cell_type": "code",
   "execution_count": 110,
   "metadata": {},
   "outputs": [
    {
     "name": "stdout",
     "output_type": "stream",
     "text": [
      "daud\n",
      "DAUD\n",
      "dAud.\n"
     ]
    }
   ],
   "source": [
    "string = \"DAUD\"\n",
    "print(string.swapcase())\n",
    "string = \"daud\"\n",
    "print(string.swapcase())\n",
    "string = \"DaUD.\"\n",
    "print(string.swapcase())\n",
    "#The string swapcase() method converts all uppercase characters to lowercase and all lowercase characters to uppercase \n",
    "#characters of the given string, and returns it."
   ]
  },
  {
   "cell_type": "markdown",
   "metadata": {},
   "source": [
    "# 42. title Method ()"
   ]
  },
  {
   "cell_type": "code",
   "execution_count": 111,
   "metadata": {},
   "outputs": [
    {
     "name": "stdout",
     "output_type": "stream",
     "text": [
      "My Favorite Subject Is Artificial Intelligece.\n"
     ]
    }
   ],
   "source": [
    "text = 'My favorite subject is artificial intelligece.'\n",
    "print(text.title())\n",
    "#The title() method returns a string with first letter of each word capitalized; a title cased string."
   ]
  },
  {
   "cell_type": "markdown",
   "metadata": {},
   "source": [
    "# 43. translate Method ()"
   ]
  },
  {
   "cell_type": "code",
   "execution_count": 112,
   "metadata": {},
   "outputs": [
    {
     "name": "stdout",
     "output_type": "stream",
     "text": [
      "Original string: abcdef\n",
      "Translated string: idef\n"
     ]
    }
   ],
   "source": [
    "firstString = \"abc\"\n",
    "secondString = \"ghi\"\n",
    "thirdString = \"ab\"\n",
    "string = \"abcdef\"\n",
    "print(\"Original string:\", string)\n",
    "translation = string.maketrans(firstString, secondString, thirdString)\n",
    "print(\"Translated string:\", string.translate(translation))\n",
    "#The string translate() method returns a string where each character is mapped to its corresponding character in the translation table."
   ]
  },
  {
   "cell_type": "markdown",
   "metadata": {},
   "source": [
    "# 44. upper Method ()"
   ]
  },
  {
   "cell_type": "code",
   "execution_count": 114,
   "metadata": {},
   "outputs": [
    {
     "name": "stdout",
     "output_type": "stream",
     "text": [
      "DAUD\n",
      "ALI\n"
     ]
    }
   ],
   "source": [
    "string = \"Daud\"\n",
    "print(string.upper())\n",
    "string = \"aLi\"\n",
    "print(string.upper())\n",
    "#The string upper() method converts all lowercase characters in a string into uppercase characters and returns it."
   ]
  },
  {
   "cell_type": "markdown",
   "metadata": {},
   "source": [
    "# 45. zfill Method ()"
   ]
  },
  {
   "cell_type": "code",
   "execution_count": 116,
   "metadata": {},
   "outputs": [
    {
     "name": "stdout",
     "output_type": "stream",
     "text": [
      "00000000000000000000000000000000python is fun\n"
     ]
    }
   ],
   "source": [
    "text = \"python is fun\"\n",
    "print(text.zfill(45))\n",
    "#The zfill() method returns a copy of the string with '0' characters padded to the left."
   ]
  },
  {
   "cell_type": "code",
   "execution_count": null,
   "metadata": {},
   "outputs": [],
   "source": []
  }
 ],
 "metadata": {
  "kernelspec": {
   "display_name": "Python 3",
   "language": "python",
   "name": "python3"
  },
  "language_info": {
   "codemirror_mode": {
    "name": "ipython",
    "version": 3
   },
   "file_extension": ".py",
   "mimetype": "text/x-python",
   "name": "python",
   "nbconvert_exporter": "python",
   "pygments_lexer": "ipython3",
   "version": "3.7.3"
  }
 },
 "nbformat": 4,
 "nbformat_minor": 2
}
